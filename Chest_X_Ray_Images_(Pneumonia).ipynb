{
  "nbformat": 4,
  "nbformat_minor": 0,
  "metadata": {
    "colab": {
      "provenance": [],
      "gpuType": "T4",
      "authorship_tag": "ABX9TyPfBz6ONxXx065bPS5RAvfG",
      "include_colab_link": true
    },
    "kernelspec": {
      "name": "python3",
      "display_name": "Python 3"
    },
    "language_info": {
      "name": "python"
    },
    "accelerator": "GPU"
  },
  "cells": [
    {
      "cell_type": "markdown",
      "metadata": {
        "id": "view-in-github",
        "colab_type": "text"
      },
      "source": [
        "<a href=\"https://colab.research.google.com/github/Sdlkh/Pneumonia-Project/blob/main/Chest_X_Ray_Images_(Pneumonia).ipynb\" target=\"_parent\"><img src=\"https://colab.research.google.com/assets/colab-badge.svg\" alt=\"Open In Colab\"/></a>"
      ]
    },
    {
      "cell_type": "code",
      "execution_count": 27,
      "metadata": {
        "id": "X29KBiyD0SQi"
      },
      "outputs": [],
      "source": [
        "#Install Kaggle CLI\n",
        "!pip install -q kaggle"
      ]
    },
    {
      "cell_type": "code",
      "source": [
        "#Upload your kaggle.json\n",
        "from google.colab import files\n",
        "files.upload()"
      ],
      "metadata": {
        "id": "DTPWGqjA0jPH"
      },
      "execution_count": null,
      "outputs": []
    },
    {
      "cell_type": "code",
      "source": [
        "#Put the key in the right place (and secure it)\n",
        "!mkdir -p ~/.kaggle\n",
        "!cp kaggle.json ~/.kaggle/\n",
        "!chmod 600 ~/.kaggle/kaggle.json"
      ],
      "metadata": {
        "id": "_opZTe_d0s_7"
      },
      "execution_count": 29,
      "outputs": []
    },
    {
      "cell_type": "code",
      "source": [
        "#Download the Chest X-Ray dataset from Kaggle\n",
        "!kaggle datasets download -d paultimothymooney/chest-xray-pneumonia"
      ],
      "metadata": {
        "id": "9S1yCn8L00fY"
      },
      "execution_count": null,
      "outputs": []
    },
    {
      "cell_type": "code",
      "source": [
        "#Unzip the dataset\n",
        "import zipfile, os\n",
        "\n",
        "zip_path = \"chest-xray-pneumonia.zip\"\n",
        "extract_to = \"chest_xray\"\n",
        "\n",
        "with zipfile.ZipFile(zip_path, 'r') as zf:\n",
        "    zf.extractall(extract_to)"
      ],
      "metadata": {
        "id": "8HlTbyrj040V"
      },
      "execution_count": 31,
      "outputs": []
    },
    {
      "cell_type": "code",
      "source": [
        "#Set base_dir and verify folder structure\n",
        "import os\n",
        "\n",
        "# After unzipping, the dataset folder is nested as chest_xray/chest_xray/...\n",
        "base_dir = \"chest_xray/chest_xray\"\n",
        "\n",
        "print(\"Exists base_dir?\", os.path.exists(base_dir))\n",
        "print(\"Subfolders in base_dir:\", os.listdir(base_dir))\n",
        "\n",
        "# Should show: train, val, test\n",
        "for split in [\"train\",\"val\",\"test\"]:\n",
        "    path = os.path.join(base_dir, split)\n",
        "    print(split, \"->\", os.path.exists(path), \":\", os.listdir(path) if os.path.exists(path) else \"NOT FOUND\")"
      ],
      "metadata": {
        "id": "-_GU7tOV1H8q"
      },
      "execution_count": null,
      "outputs": []
    },
    {
      "cell_type": "code",
      "source": [
        "#Class counts (NORMAL vs PNEUMONIA) per split\n",
        "import matplotlib.pyplot as plt\n",
        "\n",
        "def count_images(folder):\n",
        "    normal_dir = os.path.join(folder, \"NORMAL\")\n",
        "    pneumonia_dir = os.path.join(folder, \"PNEUMONIA\")\n",
        "    normal_count = len(os.listdir(normal_dir))\n",
        "    pneumonia_count = len(os.listdir(pneumonia_dir))\n",
        "    return normal_count, pneumonia_count\n",
        "\n",
        "train_dir = os.path.join(base_dir, \"train\")\n",
        "val_dir   = os.path.join(base_dir, \"val\")\n",
        "test_dir  = os.path.join(base_dir, \"test\")\n",
        "\n",
        "train_normal, train_pneu = count_images(train_dir)\n",
        "val_normal, val_pneu     = count_images(val_dir)\n",
        "test_normal, test_pneu   = count_images(test_dir)\n",
        "\n",
        "print(f\"Train: NORMAL={train_normal}, PNEUMONIA={train_pneu}\")\n",
        "print(f\"Val  : NORMAL={val_normal}, PNEUMONIA={val_pneu}\")\n",
        "print(f\"Test : NORMAL={test_normal}, PNEUMONIA={test_pneu}\")\n",
        "\n",
        "# Bar chart\n",
        "labels = [\"NORMAL\", \"PNEUMONIA\"]\n",
        "splits = [\"Train\", \"Validation\", \"Test\"]\n",
        "counts = [\n",
        "    [train_normal, train_pneu],\n",
        "    [val_normal, val_pneu],\n",
        "    [test_normal, test_pneu]]\n",
        "\n",
        "plt.figure(figsize=(10,5))\n",
        "x = range(len(labels))\n",
        "bar_w = 0.25\n",
        "\n",
        "for i, split in enumerate(splits):\n",
        "    plt.bar([p + i*bar_w for p in x], counts[i], width=bar_w, label=split)\n",
        "\n",
        "plt.xticks([p + bar_w for p in x], labels)\n",
        "plt.ylabel(\"Number of Images\")\n",
        "plt.title(\"Class Distribution by Split\")\n",
        "plt.legend()\n",
        "plt.show()"
      ],
      "metadata": {
        "id": "bCYkH1QJ1Qzd"
      },
      "execution_count": null,
      "outputs": []
    },
    {
      "cell_type": "code",
      "source": [
        "#Visualize random sample X-rays from each class\n",
        "import matplotlib.image as mpimg\n",
        "import random\n",
        "\n",
        "def show_samples(folder, label, n=3):\n",
        "    cls_dir = os.path.join(folder, label)\n",
        "    files = os.listdir(cls_dir)\n",
        "    samples = random.sample(files, min(n, len(files)))\n",
        "\n",
        "    plt.figure(figsize=(12, 3))\n",
        "    for i, fname in enumerate(samples, start=1):\n",
        "        img_path = os.path.join(cls_dir, fname)\n",
        "        img = mpimg.imread(img_path)\n",
        "        plt.subplot(1, len(samples), i)\n",
        "        plt.imshow(img, cmap=\"gray\")\n",
        "        plt.axis(\"off\")\n",
        "        plt.title(label)\n",
        "    plt.show()\n",
        "\n",
        "# Show samples from TRAIN split\n",
        "show_samples(train_dir, \"NORMAL\", n=3)\n",
        "show_samples(train_dir, \"PNEUMONIA\", n=3)"
      ],
      "metadata": {
        "id": "TQmLmhD-1V07"
      },
      "execution_count": null,
      "outputs": []
    },
    {
      "cell_type": "code",
      "source": [
        "#Create ImageDataGenerators\n",
        "from tensorflow.keras.preprocessing.image import ImageDataGenerator\n",
        "\n",
        "# Training data generator with augmentation\n",
        "train_datagen = ImageDataGenerator(\n",
        "    rescale=1./255,              # normalize\n",
        "    rotation_range=20,           # rotate images randomly up to 20 degrees\n",
        "    width_shift_range=0.1,       # shift horizontally\n",
        "    height_shift_range=0.1,      # shift vertically\n",
        "    shear_range=0.1,             # shear transformation\n",
        "    zoom_range=0.2,              # zoom in/out\n",
        "    horizontal_flip=True,        # flip images horizontally\n",
        "    fill_mode='nearest'          # fill in missing pixels\n",
        "    )\n",
        "\n",
        "# Validation and test data should NOT be augmented\n",
        "val_datagen = ImageDataGenerator(rescale=1./255)\n",
        "test_datagen = ImageDataGenerator(rescale=1./255)"
      ],
      "metadata": {
        "id": "MMtfeiUx-hBj"
      },
      "execution_count": 35,
      "outputs": []
    },
    {
      "cell_type": "code",
      "source": [
        "#Load images from directories\n",
        "IMG_SIZE = (150, 150)\n",
        "BATCH_SIZE = 32\n",
        "\n",
        "train_gen = train_datagen.flow_from_directory(\n",
        "    train_dir,\n",
        "    target_size=IMG_SIZE,\n",
        "    batch_size=BATCH_SIZE,\n",
        "    class_mode='binary')\n",
        "\n",
        "val_gen = val_datagen.flow_from_directory(\n",
        "    val_dir,\n",
        "    target_size=IMG_SIZE,\n",
        "    batch_size=BATCH_SIZE,\n",
        "    class_mode='binary')\n",
        "\n",
        "test_gen = test_datagen.flow_from_directory(\n",
        "    test_dir,\n",
        "    target_size=IMG_SIZE,\n",
        "    batch_size=BATCH_SIZE,\n",
        "    class_mode='binary',\n",
        "    shuffle=False   # keep order for evaluation\n",
        ")"
      ],
      "metadata": {
        "id": "ZyKIcqPn-mfs"
      },
      "execution_count": null,
      "outputs": []
    },
    {
      "cell_type": "code",
      "source": [
        "#Visualize augmented images (sanity check)\n",
        "import numpy as np\n",
        "\n",
        "# Get one batch of augmented images\n",
        "x_batch, y_batch = next(train_gen)\n",
        "\n",
        "plt.figure(figsize=(10, 5))\n",
        "for i in range(6):\n",
        "    plt.subplot(2, 3, i+1)\n",
        "    plt.imshow(x_batch[i])\n",
        "    plt.title(\"PNEUMONIA\" if y_batch[i] == 1 else \"NORMAL\")\n",
        "    plt.axis(\"off\")\n",
        "plt.suptitle(\"Augmented Training Samples\")\n",
        "plt.show()"
      ],
      "metadata": {
        "id": "3y-9ezfT-tEI"
      },
      "execution_count": null,
      "outputs": []
    },
    {
      "cell_type": "code",
      "source": [
        "#Basic CNN (from scratch)\n",
        "import tensorflow as tf\n",
        "from tensorflow.keras import layers, models\n",
        "\n",
        "model_cnn = models.Sequential([\n",
        "    # Convolutional block 1\n",
        "    layers.Conv2D(32, (3,3), activation='relu', input_shape=(150,150,3)),\n",
        "    layers.MaxPooling2D(2,2),\n",
        "\n",
        "    # Convolutional block 2\n",
        "    layers.Conv2D(64, (3,3), activation='relu'),\n",
        "    layers.MaxPooling2D(2,2),\n",
        "\n",
        "    # Convolutional block 3\n",
        "    layers.Conv2D(128, (3,3), activation='relu'),\n",
        "    layers.MaxPooling2D(2,2),\n",
        "\n",
        "    # Flatten → Fully Connected Layers\n",
        "    layers.Flatten(),\n",
        "    layers.Dense(128, activation='relu'),\n",
        "    layers.Dropout(0.5),   # prevent overfitting\n",
        "    layers.Dense(1, activation='sigmoid')  # binary classification\n",
        "])\n",
        "\n",
        "model_cnn.compile(\n",
        "    optimizer='adam',\n",
        "    loss='binary_crossentropy',\n",
        "    metrics=['accuracy']\n",
        ")\n",
        "\n",
        "model_cnn.summary()"
      ],
      "metadata": {
        "id": "11xyZVOc_Dmy"
      },
      "execution_count": null,
      "outputs": []
    },
    {
      "cell_type": "code",
      "source": [
        "#Transfer Learning (VGG16 Example)\n",
        "from tensorflow.keras.applications import VGG16\n",
        "\n",
        "# Load pretrained VGG16 (without top classifier layers)\n",
        "base_model = VGG16(weights=\"imagenet\", include_top=False, input_shape=(150,150,3))\n",
        "\n",
        "# Freeze base model layers (so we don’t destroy pre-trained weights)\n",
        "for layer in base_model.layers:\n",
        "    layer.trainable = False\n",
        "\n",
        "# Add our custom classifier on top\n",
        "x = layers.Flatten()(base_model.output)\n",
        "x = layers.Dense(128, activation='relu')(x)\n",
        "x = layers.Dropout(0.5)(x)\n",
        "output = layers.Dense(1, activation='sigmoid')(x)\n",
        "\n",
        "model_vgg16 = Model(inputs=base_model.input, outputs=output)\n",
        "\n",
        "model_vgg16.compile(\n",
        "    optimizer=tf.keras.optimizers.Adam(learning_rate=1e-4),\n",
        "    loss='binary_crossentropy',\n",
        "    metrics=['accuracy']\n",
        ")\n",
        "model_vgg16.summary()"
      ],
      "metadata": {
        "id": "4RgV1FQL_Mj6"
      },
      "execution_count": null,
      "outputs": []
    },
    {
      "cell_type": "code",
      "source": [
        "#Training\n",
        "EPOCHS = 10\n",
        "\n",
        "history = model_cnn.fit(\n",
        "    train_gen,\n",
        "    validation_data=val_gen,\n",
        "    epochs=EPOCHS\n",
        ")"
      ],
      "metadata": {
        "id": "MLQ30EZf_Tnh"
      },
      "execution_count": null,
      "outputs": []
    },
    {
      "cell_type": "code",
      "source": [
        "#Evaluate on test set\n",
        "# Evaluate basic metrics\n",
        "test_loss, test_acc = model_cnn.evaluate(test_gen)\n",
        "print(f\"✅ Test Accuracy: {test_acc:.4f}, Test Loss: {test_loss:.4f}\")"
      ],
      "metadata": {
        "id": "TyLa8pHT_ugL"
      },
      "execution_count": null,
      "outputs": []
    },
    {
      "cell_type": "code",
      "source": [
        "#Predictions for classification report\n",
        "from sklearn.metrics import classification_report, confusion_matrix\n",
        "\n",
        "# Predict probabilities\n",
        "y_pred_probs = model_cnn.predict(test_gen)\n",
        "y_pred = (y_pred_probs > 0.5).astype(\"int32\").flatten()\n",
        "\n",
        "# True labels\n",
        "y_true = test_gen.classes\n",
        "\n",
        "# Classification report\n",
        "print(\"📊 Classification Report:\")\n",
        "print(classification_report(y_true, y_pred, target_names=[\"NORMAL\", \"PNEUMONIA\"]))"
      ],
      "metadata": {
        "id": "0T8c_WeZ_zum"
      },
      "execution_count": null,
      "outputs": []
    },
    {
      "cell_type": "code",
      "source": [
        "# Confusion Matrix\n",
        "import seaborn as sns\n",
        "\n",
        "cm = confusion_matrix(y_true, y_pred)\n",
        "\n",
        "plt.figure(figsize=(5,4))\n",
        "sns.heatmap(cm, annot=True, fmt=\"d\", cmap=\"Blues\",\n",
        "            xticklabels=[\"NORMAL\",\"PNEUMONIA\"],\n",
        "            yticklabels=[\"NORMAL\",\"PNEUMONIA\"])\n",
        "plt.xlabel(\"Predicted\")\n",
        "plt.ylabel(\"True\")\n",
        "plt.title(\"Confusion Matrix\")\n",
        "plt.show()"
      ],
      "metadata": {
        "id": "Xgl-sjOW_21O"
      },
      "execution_count": null,
      "outputs": []
    },
    {
      "cell_type": "code",
      "source": [
        "# Training vs Validation Curves\n",
        "# Plot Accuracy and Loss\n",
        "acc = history.history['accuracy']\n",
        "val_acc = history.history['val_accuracy']\n",
        "loss = history.history['loss']\n",
        "val_loss = history.history['val_loss']\n",
        "\n",
        "epochs_range = range(len(acc))\n",
        "\n",
        "plt.figure(figsize=(12,5))\n",
        "\n",
        "# Accuracy plot\n",
        "plt.subplot(1,2,1)\n",
        "plt.plot(epochs_range, acc, label='Train Accuracy')\n",
        "plt.plot(epochs_range, val_acc, label='Val Accuracy')\n",
        "plt.legend()\n",
        "plt.title('Training vs Validation Accuracy')\n",
        "\n",
        "# Loss plot\n",
        "plt.subplot(1,2,2)\n",
        "plt.plot(epochs_range, loss, label='Train Loss')\n",
        "plt.plot(epochs_range, val_loss, label='Val Loss')\n",
        "plt.legend()\n",
        "plt.title('Training vs Validation Loss')\n",
        "\n",
        "plt.show()"
      ],
      "metadata": {
        "id": "AOeNtEZQ_8Zt"
      },
      "execution_count": null,
      "outputs": []
    }
  ]
}